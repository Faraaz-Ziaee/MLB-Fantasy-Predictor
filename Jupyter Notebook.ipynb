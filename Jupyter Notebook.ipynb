{
 "cells": [
  {
   "cell_type": "code",
   "execution_count": 2,
   "metadata": {
    "scrolled": false
   },
   "outputs": [],
   "source": [
    "import numpy as np\n",
    "import pandas as pd\n",
    "import matplotlib.pyplot as plot\n",
    "from sklearn.model_selection import train_test_split\n",
    "from sklearn.linear_model import LinearRegression\n",
    "from sklearn.preprocessing import MinMaxScaler\n",
    "\n",
    "df = pd.read_csv('Batting_Cleaned.csv')\n",
    "\n",
    "columns = ['playerID', 'yearID', 'AB', 'R', 'H', '2B', '3B', 'HR', 'RBI', 'BB', 'SO', 'IBB', 'HBP', 'SF', 'OBP', 'SLG', 'OPS', 'OPS+', 'Result']\n",
    "\n",
    "new_df =pd.DataFrame(columns=columns)\n",
    "\n",
    "for i in range(len(df)-2):\n",
    "    if df['playerID'].iloc[i] == df['playerID'].iloc[i + 1] or df['yearID'].iloc[i] == 2018:\n",
    "        new_df.loc[len(new_df)] = df.iloc[i]\n",
    "\n",
    "\n",
    "new_df.to_csv('Batting_Cleaned_Last_Year_Cut.csv')\n",
    "\n",
    "\n"
   ]
  },
  {
   "cell_type": "code",
   "execution_count": 10,
   "metadata": {
    "scrolled": true
   },
   "outputs": [
    {
     "name": "stdout",
     "output_type": "stream",
     "text": [
      "Mean Absolute Error: 0.023795212832752176\n",
      "Mean Squared Error: 0.0009137202371327158\n",
      "Root Mean Squared Error: 0.030227805694967604\n"
     ]
    },
    {
     "data": {
      "image/png": "[encoded data removed]",
      "text/plain": [
       "<Figure size 432x288 with 1 Axes>"
      ]
     },
     "metadata": {
      "needs_background": "light"
     },
     "output_type": "display_data"
    }
   ],
   "source": [
    "import numpy as np\n",
    "import pandas as pd\n",
    "import matplotlib.pyplot as plot\n",
    "from sklearn.model_selection import train_test_split\n",
    "from sklearn.linear_model import LinearRegression\n",
    "from sklearn.preprocessing import MinMaxScaler\n",
    "from sklearn import metrics\n",
    "\n",
    "from sklearn import preprocessing\n",
    "import matplotlib.pyplot as plt\n",
    "import statsmodels.api as sm\n",
    "import pandas as pd\n",
    "\n",
    "\n",
    "\n",
    "scaler = preprocessing.MinMaxScaler()\n",
    "standard_df = pd.read_csv('Batting_Cleaned_Last_Year_Cut.csv')\n",
    "standard_df = standard_df.iloc[:, 2:]\n",
    "\n",
    "x = standard_df.iloc[:,2:-1]\n",
    "y = standard_df.iloc[:,16]\n",
    "\n",
    "x = scaler.fit_transform(x)\n",
    "\n",
    "xTrain, xTest, yTrain, yTest = train_test_split(x, y, test_size = 0.2, random_state = 0)\n",
    "\n",
    "\n",
    "lreg=LinearRegression()\n",
    "lreg.fit(xTrain, yTrain)\n",
    "\n",
    "pred_train = lreg.predict(xTrain)\n",
    "pred_test = lreg.predict(xTest)\n",
    "\n",
    "plt.scatter(yTrain, pred_train)\n",
    "plt.scatter(yTest, pred_test)\n",
    "\n",
    "print('Mean Absolute Error:', metrics.mean_absolute_error(yTest, pred_test))\n",
    "print('Mean Squared Error:', metrics.mean_squared_error(yTest, pred_test))\n",
    "print('Root Mean Squared Error:', np.sqrt(metrics.mean_squared_error(yTest, pred_test)))"
   ]
  },
  {
   "cell_type": "code",
   "execution_count": null,
   "metadata": {},
   "outputs": [],
   "source": [
    "x = df.iloc[:,2:-1]\n",
    "\n",
    "y = df.iloc[:,21]\n",
    "\n",
    "xTrain, xTest, yTrain, yTest = train_test_split(x, y, test_size = 0.2, random_state = 0)"
   ]
  },
  {
   "cell_type": "code",
   "execution_count": null,
   "metadata": {},
   "outputs": [],
   "source": [
    "linearRegressor = LinearRegression()\n",
    "\n",
    "linearRegressor.fit(xTrain, yTrain)\n",
    "\n",
    "yPrediction = linearRegressor.predict(xTest)\n",
    "\n",
    "\n",
    "plot.plot(xTrain, linearRegressor.predict(xTrain), color = 'blue')\n",
    "plot.title(' Training set ')\n",
    "plot.xlabel(' ')\n",
    "plot.ylabel(' ')\n",
    "plot.show()\n"
   ]
  },
  {
   "cell_type": "code",
   "execution_count": null,
   "metadata": {},
   "outputs": [],
   "source": []
  },
  {
   "cell_type": "code",
   "execution_count": null,
   "metadata": {},
   "outputs": [],
   "source": []
  }
 ],
 "metadata": {
  "kernelspec": {
   "display_name": "Python 3",
   "language": "python",
   "name": "python3"
  },
  "language_info": {
   "codemirror_mode": {
    "name": "ipython",
    "version": 3
   },
   "file_extension": ".py",
   "mimetype": "text/x-python",
   "name": "python",
   "nbconvert_exporter": "python",
   "pygments_lexer": "ipython3",
   "version": "3.7.3"
  }
 },
 "nbformat": 4,
 "nbformat_minor": 2
}
